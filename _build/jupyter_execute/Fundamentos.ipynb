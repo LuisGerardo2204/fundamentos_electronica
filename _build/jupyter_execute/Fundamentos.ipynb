{
 "cells": [
  {
   "cell_type": "markdown",
   "id": "b83dce0a",
   "metadata": {},
   "source": [
    "# Introducción\n",
    "\n",
    "En la actualidad esta pregunta tiene una respuesta muy sencilla si observamos que una parte muy importante de casi todos los dispositivos, herramientas de trabajo y medios de comunicación utilizan para su funcionamiento, componentes  sistemas electrónicos. Así podemos responder a la pregunta inicial con la frase: Es importante para un ingeniero mecatrónico estudiar electrónica para comprender mejor el funcionamiento de los componentes que son una parte importante de los sistemas de control que coadyuvan al óptimo desempeño de sus diseños.\n",
    "\n",
    "\n",
    "```{figure} /images/output.png\n",
    ":height: 250px\n",
    ":name: figura1\n",
    "Interruptor básico transistorizado.\n",
    "\n",
    "```\n",
    "## Conceptos fundamentales en electrónica: ¿Qué es la electrónica?\n",
    "\n",
    "La electrónica es una rama de la física que estudia los cambios y movimientos en los electrones libres y la acción de las fuerzas electromagnéticas. Los conocimientos y las técnicas derivadas de este estudio se aplican en el manejo de la información o en el control de sistemas electromecánicos.\n",
    "\n",
    "\n",
    "### ¿Cuál es la diferencia entre la electricidad y la electrónica? \n",
    "\n",
    "La diferencia práctica más conocida entre las dos ramas de la física, electricidad y electrónica es\n",
    ":\n",
    "* **La electrónica se ocupa del procesamiento de señales eléctricas, es decir, un circuito electrónico manipula la estructura de la señal que lo alienta o de la señal d eentrada**\n",
    "* **La electricidad se ocupa del tratamiento de las señales eléctricas y su óptm  atransmisión** \n",
    "\n",
    "En otras palabras, la mayoría de los componentes que conforman los sistemas eléctricos y eléctricos de potencia son llamados pasivos Los componentes pasivos solo disipan la energía que no se aprovecha por las cargas que alimentan, sin hacer un tratamiento o transformación sustancial en la forma de la corriente que circula a través de ellos.\n",
    "\n",
    "```{figure} /images/escalera.png\n",
    ":height: 250px\n",
    ":name: figur21\n",
    "Interruptor de escalera.\n",
    "\n",
    "```\n",
    "En el ejemplo de la figura, vemos componentes pasivos, unalámpara incandescentet y un par de interruptores. \n",
    "\n",
    "A pesar de que se trata de un apagador para control desde dos puntos, los componentes que conforman el sistema son pasivos, los interruptores solo permiten o interrumpen el paso de la energía eléctrica y el foco o bombilla disipa luz, resultado del calentamiento de la resistencia de sfilamentoen.\n",
    "e"
   ]
  }
 ],
 "metadata": {
  "jupytext": {
   "formats": "md:myst",
   "text_representation": {
    "extension": ".md",
    "format_name": "myst",
    "format_version": 0.13,
    "jupytext_version": "1.11.5",
    "language": "es"
   }
  },
  "kernelspec": {
   "display_name": "Octave",
   "language": "Octave",
   "name": "Octave"
  },
  "source_map": [
   14
  ]
 },
 "nbformat": 4,
 "nbformat_minor": 5
}