{
 "cells": [
  {
   "cell_type": "markdown",
   "id": "a608630d",
   "metadata": {},
   "source": [
    "# Introducción\n",
    "\n",
    "En la actualidad esta pregunta tiene una respuesta muy sencilla si observamos que una parte muy importante de casi todos los dispositivos, herramientas de trabajo y medios de comunicación utilizan para su funcionamiento, componentes  sistemas electrónicos. Así podemos responder a la pregunta inicial con la frase: Es importante para un ingeniero mecánico automotriz estudiar electrónica para comprender mejor el funcionamiento de los sistemas que dan confort y en no pocas ocasiones son esenciales para el correcto funcionamiento de los automóviles."
   ]
  }
 ],
 "metadata": {
  "jupytext": {
   "formats": "md:myst",
   "text_representation": {
    "extension": ".md",
    "format_name": "myst",
    "format_version": 0.13,
    "jupytext_version": "1.11.5",
    "language": "es"
   }
  },
  "kernelspec": {
   "display_name": "Octave",
   "language": "Octave",
   "name": "Octave"
  },
  "source_map": [
   14
  ]
 },
 "nbformat": 4,
 "nbformat_minor": 5
}